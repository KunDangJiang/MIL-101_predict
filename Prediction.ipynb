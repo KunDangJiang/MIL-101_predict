{
 "cells": [
  {
   "cell_type": "code",
   "execution_count": 1,
   "id": "17f6eaaa-b1a7-49ce-924b-2340cda75796",
   "metadata": {},
   "outputs": [],
   "source": [
    "import tkinter as tk\n",
    "from tkinter import ttk\n",
    "import joblib\n",
    "import numpy as np\n",
    "\n",
    "model = joblib.load('CatBoost_model.joblib')\n",
    "\n",
    "root = tk.Tk()\n",
    "root.title(\"MIL-101 Sythesis Prediction\")\n",
    "\n",
    "category_var = tk.StringVar()\n",
    "continuous_var1 = tk.DoubleVar()\n",
    "continuous_var2 = tk.DoubleVar()\n",
    "continuous_var3 = tk.DoubleVar()\n",
    "continuous_var4 = tk.DoubleVar()\n",
    "\n",
    "result_var = tk.StringVar()\n",
    "\n",
    "def predict():\n",
    "    category = category_var.get()\n",
    "    cont1 = continuous_var1.get()\n",
    "    cont2 = continuous_var2.get()\n",
    "    cont3 = continuous_var3.get()\n",
    "    cont4 = continuous_var4.get()\n",
    "    \n",
    "    category_mapping = {'NaF':'NaF' , 'NH4F': 'NH4F', 'NaOH': 'NaOH', 'none': 'none'}\n",
    "    category_num = category_mapping[category]\n",
    "    \n",
    "    input_data = np.array([[category_num, cont1, cont2, cont3, cont4]])\n",
    "    \n",
    "    prediction = model.predict(input_data)\n",
    "    result_var.set(f\"Prediction: {prediction[0]}\")\n",
    "\n",
    "ttk.Label(root, text=\"Nucleating agent:\").grid(column=0, row=0, padx=10, pady=5)\n",
    "category_combobox = ttk.Combobox(root, textvariable=category_var)\n",
    "category_combobox['values'] = ('NaF', 'NH4F', 'NaOH', 'none')\n",
    "category_combobox.grid(column=1, row=0, padx=10, pady=5)\n",
    "\n",
    "ttk.Label(root, text=\"n_nucleat:\").grid(column=0, row=1, padx=10, pady=5)\n",
    "ttk.Entry(root, textvariable=continuous_var1).grid(column=1, row=1, padx=10, pady=5)\n",
    "\n",
    "ttk.Label(root, text=\"n_GdmCl:\").grid(column=0, row=2, padx=10, pady=5)\n",
    "ttk.Entry(root, textvariable=continuous_var2).grid(column=1, row=2, padx=10, pady=5)\n",
    "\n",
    "ttk.Label(root, text=\"v_H2O:\").grid(column=0, row=3, padx=10, pady=5)\n",
    "ttk.Entry(root, textvariable=continuous_var3).grid(column=1, row=3, padx=10, pady=5)\n",
    "\n",
    "ttk.Label(root, text=\"temperature:\").grid(column=0, row=4, padx=10, pady=5)\n",
    "ttk.Entry(root, textvariable=continuous_var4).grid(column=1, row=4, padx=10, pady=5)\n",
    "\n",
    "ttk.Button(root, text=\"Predict\", command=predict).grid(column=0, row=5, columnspan=2, padx=10, pady=10)\n",
    "\n",
    "ttk.Label(root, textvariable=result_var).grid(column=0, row=6, columnspan=2, padx=10, pady=10)\n",
    "\n",
    "root.mainloop()\n"
   ]
  },
  {
   "cell_type": "code",
   "execution_count": null,
   "id": "c3d4b32f-ff32-4170-82d8-130d51761e2e",
   "metadata": {},
   "outputs": [],
   "source": []
  },
  {
   "cell_type": "code",
   "execution_count": null,
   "id": "5924880a-4e54-4e2e-b303-639ee1c9f83e",
   "metadata": {},
   "outputs": [],
   "source": []
  }
 ],
 "metadata": {
  "kernelspec": {
   "display_name": "Python 3 (ipykernel)",
   "language": "python",
   "name": "python3"
  },
  "language_info": {
   "codemirror_mode": {
    "name": "ipython",
    "version": 3
   },
   "file_extension": ".py",
   "mimetype": "text/x-python",
   "name": "python",
   "nbconvert_exporter": "python",
   "pygments_lexer": "ipython3",
   "version": "3.9.18"
  }
 },
 "nbformat": 4,
 "nbformat_minor": 5
}
