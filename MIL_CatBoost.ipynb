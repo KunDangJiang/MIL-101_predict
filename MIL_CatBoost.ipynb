{
 "cells": [
  {
   "cell_type": "code",
   "execution_count": 9,
   "id": "f9bfdea4-4d2d-4d67-b820-cdeee9721df8",
   "metadata": {
    "scrolled": true
   },
   "outputs": [
    {
     "data": {
      "text/html": [
       "<div>\n",
       "<style scoped>\n",
       "    .dataframe tbody tr th:only-of-type {\n",
       "        vertical-align: middle;\n",
       "    }\n",
       "\n",
       "    .dataframe tbody tr th {\n",
       "        vertical-align: top;\n",
       "    }\n",
       "\n",
       "    .dataframe thead th {\n",
       "        text-align: right;\n",
       "    }\n",
       "</style>\n",
       "<table border=\"1\" class=\"dataframe\">\n",
       "  <thead>\n",
       "    <tr style=\"text-align: right;\">\n",
       "      <th></th>\n",
       "      <th>Nucleating agent</th>\n",
       "      <th>n_nucleat</th>\n",
       "      <th>n_GdmCl</th>\n",
       "      <th>v_H2O</th>\n",
       "      <th>temperature</th>\n",
       "      <th>Label</th>\n",
       "    </tr>\n",
       "  </thead>\n",
       "  <tbody>\n",
       "    <tr>\n",
       "      <th>0</th>\n",
       "      <td>none</td>\n",
       "      <td>0.0</td>\n",
       "      <td>0</td>\n",
       "      <td>4.8</td>\n",
       "      <td>220</td>\n",
       "      <td>MIL-101</td>\n",
       "    </tr>\n",
       "    <tr>\n",
       "      <th>1</th>\n",
       "      <td>none</td>\n",
       "      <td>0.0</td>\n",
       "      <td>0</td>\n",
       "      <td>4.8</td>\n",
       "      <td>218</td>\n",
       "      <td>MIL-101</td>\n",
       "    </tr>\n",
       "    <tr>\n",
       "      <th>2</th>\n",
       "      <td>NaOH</td>\n",
       "      <td>1.0</td>\n",
       "      <td>0</td>\n",
       "      <td>5.0</td>\n",
       "      <td>220</td>\n",
       "      <td>MIL-101</td>\n",
       "    </tr>\n",
       "    <tr>\n",
       "      <th>3</th>\n",
       "      <td>none</td>\n",
       "      <td>0.0</td>\n",
       "      <td>0</td>\n",
       "      <td>5.0</td>\n",
       "      <td>200</td>\n",
       "      <td>MIL-101</td>\n",
       "    </tr>\n",
       "    <tr>\n",
       "      <th>4</th>\n",
       "      <td>none</td>\n",
       "      <td>0.0</td>\n",
       "      <td>0</td>\n",
       "      <td>5.0</td>\n",
       "      <td>180</td>\n",
       "      <td>MIL-101</td>\n",
       "    </tr>\n",
       "  </tbody>\n",
       "</table>\n",
       "</div>"
      ],
      "text/plain": [
       "  Nucleating agent  n_nucleat  n_GdmCl  v_H2O  temperature    Label\n",
       "0             none        0.0        0    4.8          220  MIL-101\n",
       "1             none        0.0        0    4.8          218  MIL-101\n",
       "2             NaOH        1.0        0    5.0          220  MIL-101\n",
       "3             none        0.0        0    5.0          200  MIL-101\n",
       "4             none        0.0        0    5.0          180  MIL-101"
      ]
     },
     "execution_count": 9,
     "metadata": {},
     "output_type": "execute_result"
    }
   ],
   "source": [
    "import catboost as cb\n",
    "from catboost import CatBoostClassifier\n",
    "from sklearn.model_selection import train_test_split, RandomizedSearchCV, GridSearchCV, ParameterGrid\n",
    "from sklearn.metrics import accuracy_score,confusion_matrix, ConfusionMatrixDisplay\n",
    "import matplotlib.pyplot as plt\n",
    "import pandas as pd\n",
    "import numpy as np\n",
    "from tqdm import tqdm\n",
    "data = pd.read_csv('MIL_101_Cr_data.csv')\n",
    "data.head()\n"
   ]
  },
  {
   "cell_type": "code",
   "execution_count": 11,
   "id": "66ccb6e9-43dd-4f3e-b559-b18b671d4748",
   "metadata": {},
   "outputs": [
    {
     "name": "stdout",
     "output_type": "stream",
     "text": [
      "Fitting 5 folds for each of 72 candidates, totalling 360 fits\n",
      "Best parameters found:  {'depth': 4, 'iterations': 200, 'l2_leaf_reg': 7, 'learning_rate': 0.1}\n",
      "accuracy_train: 0.9619047619047619\n",
      "accuracy_test: 0.8518518518518519\n"
     ]
    }
   ],
   "source": [
    "X = data.drop(['Label'], axis=1)\n",
    "y = data.loc[:, 'Label']\n",
    "\n",
    "X_train, X_test, y_train, y_test = train_test_split(X, y, test_size=0.2, random_state=42)\n",
    "\n",
    "model = CatBoostClassifier()\n",
    "\n",
    "cat_features = X_train.select_dtypes(include=['object', 'category']).columns.tolist()\n",
    "\n",
    "param_grid = {\n",
    "    'iterations': [100, 200, 300],\n",
    "    'learning_rate': [0.1, 0.15],\n",
    "    'depth': [2,4, 6, 8],\n",
    "    'l2_leaf_reg': [3, 5, 7]\n",
    "}\n",
    "\n",
    "grid_search = GridSearchCV(model, param_grid, cv=5, n_jobs=-1, verbose=2)\n",
    "\n",
    "grid_search.fit(X_train, y_train, cat_features=cat_features, eval_set=(X_test, y_test), verbose=False)\n",
    "\n",
    "best_params = grid_search.best_params_\n",
    "\n",
    "best_model = CatBoostClassifier(**best_params)\n",
    "best_model.fit(X_train, y_train, cat_features=cat_features, eval_set=(X_test, y_test), verbose=False)\n",
    "\n",
    "y_predict_train = best_model.predict(X_train)\n",
    "y_predict_test = best_model.predict(X_test)\n",
    "\n",
    "accuracy_train = accuracy_score(y_train, y_predict_train)\n",
    "accuracy_test = accuracy_score(y_test, y_predict_test)\n",
    "\n",
    "print(\"Best parameters found: \", best_params)\n",
    "print(\"accuracy_train:\", accuracy_train)\n",
    "print(\"accuracy_test:\", accuracy_test)\n",
    "\n",
    "\n"
   ]
  },
  {
   "cell_type": "code",
   "execution_count": 13,
   "id": "0aa9e65e-85a8-45bc-bc75-9a4078178732",
   "metadata": {},
   "outputs": [
    {
     "data": {
      "image/png": "[encoded data removed]",
      "text/plain": [
       "<Figure size 1000x400 with 4 Axes>"
      ]
     },
     "metadata": {},
     "output_type": "display_data"
    }
   ],
   "source": [
    "conf_matrix_train = confusion_matrix(y_train, y_predict_train)\n",
    "conf_matrix_test = confusion_matrix(y_test, y_predict_test)\n",
    "\n",
    "fig, ax = plt.subplots(1, 2, figsize=(10, 4))\n",
    "\n",
    "disp_train = ConfusionMatrixDisplay(confusion_matrix=conf_matrix_train, display_labels=['Fail', 'MIL-101(Cr)'])\n",
    "disp_train.plot(cmap=plt.cm.Blues, ax=ax[0])\n",
    "ax[0].set_title('Confusion Matrix - Training Set')\n",
    "ax[0].set_xlabel('Prediction')\n",
    "ax[0].set_ylabel('Synthesis')\n",
    "\n",
    "disp_test = ConfusionMatrixDisplay(confusion_matrix=conf_matrix_test, display_labels=['Fail', 'MIL-101(Cr)'])\n",
    "disp_test.plot(cmap=plt.cm.Oranges, ax=ax[1])\n",
    "ax[1].set_title('Confusion Matrix - Test Set')\n",
    "ax[1].set_xlabel('Prediction')\n",
    "ax[1].set_ylabel('Synthesis')\n",
    "\n",
    "plt.tight_layout()\n",
    "\n",
    "plt.savefig('confusion_matrices_CatBoost.png')\n",
    "\n",
    "plt.show()\n",
    "\n"
   ]
  },
  {
   "cell_type": "code",
   "execution_count": 14,
   "id": "e775cd3f-5713-4b08-8f5d-be98cdb7241c",
   "metadata": {},
   "outputs": [
    {
     "data": {
      "text/plain": [
       "['CatBoost_model.joblib']"
      ]
     },
     "execution_count": 14,
     "metadata": {},
     "output_type": "execute_result"
    }
   ],
   "source": [
    "import joblib\n",
    "\n",
    "model = best_model \n",
    "model_path = 'CatBoost_model.joblib'\n",
    "joblib.dump(model, model_path)\n"
   ]
  },
  {
   "cell_type": "code",
   "execution_count": null,
   "id": "e718a0c7-e860-4de6-ab7f-c85766665ffa",
   "metadata": {},
   "outputs": [],
   "source": []
  }
 ],
 "metadata": {
  "kernelspec": {
   "display_name": "Python 3 (ipykernel)",
   "language": "python",
   "name": "python3"
  },
  "language_info": {
   "codemirror_mode": {
    "name": "ipython",
    "version": 3
   },
   "file_extension": ".py",
   "mimetype": "text/x-python",
   "name": "python",
   "nbconvert_exporter": "python",
   "pygments_lexer": "ipython3",
   "version": "3.9.18"
  }
 },
 "nbformat": 4,
 "nbformat_minor": 5
}
