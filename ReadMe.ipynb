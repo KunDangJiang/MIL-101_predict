{
 "cells": [
  {
   "cell_type": "markdown",
   "id": "a62df356-d306-4242-ab25-2b8297a0dced",
   "metadata": {},
   "source": [
    "### Machine Learning Model for Predicting MIL-101(Cr) Synthesis Outcomes\n",
    "\n",
    "#### Overview\n",
    "The machine learning model predicts the outcome of MIL-101(Cr) synthesis based on input variables, which include the type of nucleating agent, the amount of nucleating agent, the amount of solubilizing agent (GdmCl), and the synthesis temperature. The reaction involves using chromium nitrate ((CrN)3O3) and BDC (terephthalic acid) in a 1:1 ratio, and the reaction time is assumed to be as long as necessary (up to one week). The output variable is the synthesis result, categorized as either successful MIL-101(Cr) synthesis or synthesis failure (no product or amorphous product)\n",
    "All model training is based on the dataset of MIL-101(Cr) synthesis conditions and outcomes (`MIL_101_Cr_data.csv`).\n",
    "\n",
    "#### How to Use the Program\n",
    "There are two ways to use the program:\n",
    "\n",
    "1. **Using Anaconda and Jupyter Notebook:**\n",
    "   - **Install Anaconda** and set up a Python virtual environment.\n",
    "     - Example: `conda create -n env_name`\n",
    "   - **Activate the environment:**\n",
    "     - Example: `conda activate env_name`\n",
    "   - **Install the required packages:** notebook, numpy, pandas, scikit-learn, and catboost.\n",
    "     - Example: `conda install numpy pandas`\n",
    "   - Launch Jupyter Notebook from Anaconda, download, and unzip the provided zip file, and upload it to Jupyter Notebook. Then, open and run the `Jupyter_pre.ipynb` file.\n",
    "\n",
    "2. **Using the Executable File:**\n",
    "   - If you prefer not to install Anaconda or find the above method challenging, you can unzip the provided file and run the `app.exe` file to easily change conditions and predict the outcome of MIL-101(Cr) synthesis. Ensure that the model file `CatBoost_model.joblib` is in the same directory as the executable program during execution.\n",
    "\n",
    "#### Important Notes\n",
    "- For optimal prediction results, it is recommended to adjust the synthesis conditions within the fowing ranges:\n",
    "  - `{n-cry:0-5; n-GdmCl:0-40; V-H20:0-50; emperature:100-220}`\n",
    "  \n",
    "- If you wish to retrain the model, simply replace or add data to the dataset file (`MIL_101_Cr_data.csv`), select the desired model for retraining, save the model, and update the model used in the `Jupyter_pre.ipynb` file accordingly.\n",
    ".\n"
   ]
  }
 ],
 "metadata": {
  "kernelspec": {
   "display_name": "",
   "name": ""
  },
  "language_info": {
   "name": ""
  }
 },
 "nbformat": 4,
 "nbformat_minor": 5
}
